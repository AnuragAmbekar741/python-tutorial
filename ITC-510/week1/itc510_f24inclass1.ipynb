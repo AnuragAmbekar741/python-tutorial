{
 "cells": [
  {
   "cell_type": "markdown",
   "id": "81d8083e",
   "metadata": {},
   "source": [
    "###### In-Class Assignment 1 - Python and Jupyter Notebook (10 points)\n",
    "## Due: 9/4/24 (12:45pm)\n",
    "\n",
    "Find your two partners as instructed. Complete the following problem and submit as a group where only one student need turn in the assignment but all students in a group should at least submit a comment indicating who was in their group and also highlighting who is responsible for turning in the assignment. All members of a group should be able to explain any code that has been turned in by the group.\n",
    "\n",
    "This assignment is not just about getting the code working. You are also expected to **add a Markdown cell after your code that explains your code** and **any results obtained**. This is particularly important if the code does not work or is incomplete, provide detailed explaination in the Markdown cell as well."
   ]
  },
  {
   "cell_type": "markdown",
   "id": "1b42b181",
   "metadata": {},
   "source": [
    "### In the code cell below, write a function that, accepts exactly two parameters where the first parameter is a list containing only numbers and the second paremeter is an integer.   After validating the input to the function, the funtion should calculate and return the sum of the numbers in the list starting with the first number and ending with the \"nth\" number where the \"nth\" number is specified by second parameter value passed to the function.   The function should print a relevant error message should an error occur and then return \"gracefully\".\n",
    "\n",
    "### Do not use exception handling (try/except) statements.\n",
    "\n",
    "### Make sure to provide (and document in Markdown cells) multiple test cases (especially error cases).  Failure to provide Markdown cells with test calls will result in a 50% deduction in your assignment grade.\n",
    "\n",
    "### Test casses\n",
    "#### print(your_function_name([1,2,3,4,5,6,7,8,9,10], 5)\n",
    "#### print(your_function_name([1,2,3,4,5,6,7,8,9,10], 15)\n",
    "#### print(your_function_name([1.5,2,3.5,4,5.5,6,7.5,8,9.5,10], 8)\n",
    "#### print(your_function_name(5, [1,2,3,4,5,6,7,8,9,10])\n",
    "#### print(your_function_name(['1','2','3'],2)\n",
    "#### print(your_function_name([1,2,3],'2')"
   ]
  },
  {
   "cell_type": "markdown",
   "id": "67a01c8c-7360-417e-9678-fa853efb4848",
   "metadata": {},
   "source": [
    "# Group Members: Pushkal Kafley, Nathan Hamill, Anurag Ambekar"
   ]
  },
  {
   "cell_type": "code",
   "execution_count": 17,
   "id": "aab27e09",
   "metadata": {},
   "outputs": [
    {
     "name": "stdout",
     "output_type": "stream",
     "text": [
      "15\n",
      "\n",
      "Invalid N. N should be an int and >= 0 and < length of the list.\n",
      "None\n",
      "\n",
      "38.0\n",
      "\n",
      "Invalid N. N should be an int and >= 0 and < length of the list.\n",
      "None\n",
      "\n",
      "Invalid List. The list has to be all numbers.\n",
      "None\n",
      "\n",
      "Invalid N. N should be an int and >= 0 and < length of the list.\n",
      "None\n",
      "\n"
     ]
    }
   ],
   "source": [
    "def runningSum(lst, n):\n",
    "    if type(lst) == list and any([not (isinstance(x, int) or isinstance(x, float)) for x in lst]):\n",
    "        print(\"Invalid List. The list has to be all numbers.\")\n",
    "        return\n",
    "    \n",
    "    if type(n) != int or n < 0 or n > len(lst) :\n",
    "        print(\"Invalid N. N should be an int and >= 0 and < length of the list.\")\n",
    "        return\n",
    "\n",
    "    total = 0\n",
    "    for i in range(n):\n",
    "        total += lst[i]\n",
    "\n",
    "    return total\n",
    "\n",
    "print(runningSum([1,2,3,4,5,6,7,8,9,10], 5), end=\"\\n\\n\")\n",
    "print(runningSum([1,2,3,4,5,6,7,8,9,10], 15), end=\"\\n\\n\")\n",
    "print(runningSum([1.5,2,3.5,4,5.5,6,7.5,8,9.5,10], 8), end=\"\\n\\n\")\n",
    "print(runningSum(5, [1,2,3,4,5,6,7,8,9,10]), end=\"\\n\\n\")\n",
    "print(runningSum(['1','2','3'],2), end=\"\\n\\n\")\n",
    "print(runningSum([1,2,3],'2'), end=\"\\n\\n\")"
   ]
  },
  {
   "cell_type": "markdown",
   "id": "9652feb8-00e3-42af-a44b-0b4b4ed91493",
   "metadata": {},
   "source": [
    "# Code Explination\n",
    "First condition checks if it's a list and if any are not numbers. Then we check if n is not an integer or if n < 0 or n is > the length of the given list. Then we just add using a for loop and increment total. Then return total. "
   ]
  },
  {
   "cell_type": "markdown",
   "id": "956a416c",
   "metadata": {},
   "source": [
    "## Extra credit (5 pts.) - Due (9/6 noon)\n",
    "### Modify the function you created in this assignment so that the first parameter can contain both numbers and strings.  The function should still perform the same operation as before but when encountering a string in the list, it must first convert the string to a number (if possible)."
   ]
  },
  {
   "cell_type": "code",
   "execution_count": 16,
   "id": "c6736610",
   "metadata": {},
   "outputs": [
    {
     "name": "stdout",
     "output_type": "stream",
     "text": [
      "15\n",
      "\n",
      "Invalid N. N should be an int and >= 0 and < length of the list.\n",
      "None\n",
      "\n",
      "36\n",
      "\n",
      "Invalid N. N should be an int and >= 0 and < length of the list.\n",
      "None\n",
      "\n",
      "3\n",
      "\n",
      "Invalid N. N should be an int and >= 0 and < length of the list.\n",
      "None\n",
      "\n"
     ]
    }
   ],
   "source": [
    "def runningSum(lst, n):\n",
    "    if type(lst) == list and any([not (isinstance(x, int) or isinstance(x, float) or isinstance(x, str))  for x in lst]):\n",
    "        print(\"Invalid List. The list has to be all numbers.\")\n",
    "        return\n",
    "    \n",
    "    if type(n) != int or n < 0 or n > len(lst) :\n",
    "        print(\"Invalid N. N should be an int and >= 0 and < length of the list.\")\n",
    "        return\n",
    "\n",
    "    lst = list(map(int, lst))\n",
    "\n",
    "    total = 0\n",
    "    for i in range(n):\n",
    "        total += lst[i]\n",
    "\n",
    "    return total\n",
    "\n",
    "print(runningSum([1,2,3,4,5,6,7,8,9,10], 5), end=\"\\n\\n\")\n",
    "print(runningSum([1,2,3,4,5,6,7,8,9,10], 15), end=\"\\n\\n\")\n",
    "print(runningSum([1.5,2,3.5,4,5.5,6,7.5,8,9.5,10], 8), end=\"\\n\\n\")\n",
    "print(runningSum(5, [1,2,3,4,5,6,7,8,9,10]), end=\"\\n\\n\")\n",
    "print(runningSum(['1','2','3'],2), end=\"\\n\\n\")\n",
    "print(runningSum([1,2,3],'2'), end=\"\\n\\n\")"
   ]
  },
  {
   "cell_type": "markdown",
   "id": "8738c741-4cd4-4244-bef1-ec3322f370a4",
   "metadata": {},
   "source": [
    "# Code Explination\n",
    "Same as the above, but we also allowed strings using isinstance, then we mapped everything in the list to an int. Then everything else was the same. "
   ]
  },
  {
   "cell_type": "code",
   "execution_count": null,
   "id": "6b9fb980-4118-4abf-ad22-aec0bd18563f",
   "metadata": {},
   "outputs": [],
   "source": []
  }
 ],
 "metadata": {
  "kaggle": {
   "accelerator": "none",
   "dataSources": [],
   "dockerImageVersionId": 30761,
   "isGpuEnabled": false,
   "isInternetEnabled": false,
   "language": "python",
   "sourceType": "notebook"
  },
  "kernelspec": {
   "display_name": "Python 3 (ipykernel)",
   "language": "python",
   "name": "python3"
  },
  "language_info": {
   "codemirror_mode": {
    "name": "ipython",
    "version": 3
   },
   "file_extension": ".py",
   "mimetype": "text/x-python",
   "name": "python",
   "nbconvert_exporter": "python",
   "pygments_lexer": "ipython3",
   "version": "3.12.4"
  }
 },
 "nbformat": 4,
 "nbformat_minor": 5
}
