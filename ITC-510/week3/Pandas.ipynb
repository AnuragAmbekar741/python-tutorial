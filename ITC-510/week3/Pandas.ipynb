{
 "cells": [
  {
   "cell_type": "markdown",
   "id": "878f44ef",
   "metadata": {},
   "source": [
    "#  Getting Started with pandas\n",
    "\n",
    "o pandas contains data structures and data manipulation tools designed to make data cleaning and analysis fast and easy\n",
    "\n",
    "o pandas is often used with numerical computing tools like NumPy and SciPy, analytical libraries like statsmodels and scikit-learn, and data visualization libraries like matplotlib. \n",
    "\n",
    "o pandas adopts NumPy’s style of array-based computing\n",
    "\n",
    "o the biggest difference is that pandas is designed for working with tabular or heterogeneous data whereas NumPy is \n",
    "  designed for homogeneous numerical array data.\n",
    "\n",
    "    \n",
    "### pandas Data Structures\n",
    "\n",
    "o Series - one-dimensional array-like object containing a sequence of values and an associated array of data labels (index) \n",
    "\n",
    "o DataFrame - rectangular table of data and contains an ordered collection of columns, each of which can be a different\n",
    "              value type (numeric, string, boolean, etc.)\n",
    "           "
   ]
  },
  {
   "cell_type": "code",
   "execution_count": 2,
   "id": "58f10d5a",
   "metadata": {},
   "outputs": [
    {
     "name": "stdout",
     "output_type": "stream",
     "text": [
      "0    4\n",
      "1    7\n",
      "2   -5\n",
      "3    3\n",
      "dtype: int64\n",
      "7\n"
     ]
    }
   ],
   "source": [
    "import numpy as np\n",
    "import pandas as pd\n",
    "from pandas import Series, DataFrame\n",
    "\n",
    "# Creates a simple series\n",
    "obj1 = pd.Series([4, 7, -5, 3])   \n",
    "print(obj1)\n",
    "print(obj1[1])"
   ]
  },
  {
   "cell_type": "code",
   "execution_count": 2,
   "id": "7c4fc5d6",
   "metadata": {},
   "outputs": [
    {
     "name": "stdout",
     "output_type": "stream",
     "text": [
      "d    4\n",
      "b    7\n",
      "a   -5\n",
      "c    3\n",
      "dtype: int64\n",
      "-5\n",
      "d    100\n",
      "b      7\n",
      "a     -5\n",
      "c      3\n",
      "dtype: int64\n"
     ]
    }
   ],
   "source": [
    "# Series with string indexing\n",
    "obj2 = pd.Series([4, 7, -5, 3], index=['d', 'b', 'a', 'c'])  \n",
    "print(obj2)\n",
    "print(obj2['a'])\n",
    "obj2['d'] = 100\n",
    "print(obj2)"
   ]
  },
  {
   "cell_type": "code",
   "execution_count": 3,
   "id": "cb29b5f3",
   "metadata": {},
   "outputs": [
    {
     "name": "stdout",
     "output_type": "stream",
     "text": [
      "d    100\n",
      "b      7\n",
      "c      3\n",
      "dtype: int64\n",
      "d    200\n",
      "b     14\n",
      "a    -10\n",
      "c      6\n",
      "dtype: int64\n",
      "0      54.598150\n",
      "1    1096.633158\n",
      "2       0.006738\n",
      "3      20.085537\n",
      "dtype: float64\n"
     ]
    }
   ],
   "source": [
    "# NumPy and NumPy-like operations\n",
    "print(obj2[obj2 > 0])  \n",
    "print(obj2 * 2)\n",
    "print(np.exp(obj1))"
   ]
  },
  {
   "cell_type": "code",
   "execution_count": 4,
   "id": "90a856a5",
   "metadata": {},
   "outputs": [
    {
     "name": "stdout",
     "output_type": "stream",
     "text": [
      "Ohio      35000\n",
      "Texas     71000\n",
      "Oregon    16000\n",
      "Utah       5000\n",
      "dtype: int64\n"
     ]
    }
   ],
   "source": [
    "# Creates a series with a Python dictionary\n",
    "sdata = {'Ohio': 35000, 'Texas': 71000, 'Oregon': 16000, 'Utah': 5000}\n",
    "obj3 = pd.Series(sdata)\n",
    "print(obj3)"
   ]
  },
  {
   "cell_type": "code",
   "execution_count": 5,
   "id": "ddb83a8d",
   "metadata": {},
   "outputs": [
    {
     "name": "stdout",
     "output_type": "stream",
     "text": [
      "California        NaN\n",
      "Ohio          35000.0\n",
      "Oregon        16000.0\n",
      "Texas         71000.0\n",
      "dtype: float64\n"
     ]
    }
   ],
   "source": [
    "# Creates a series from an existing series\n",
    "states = ['California', 'Ohio', 'Oregon', 'Texas']\n",
    "obj4 = pd.Series(sdata, index=states)\n",
    "print(obj4)"
   ]
  },
  {
   "cell_type": "code",
   "execution_count": 6,
   "id": "df2e2050",
   "metadata": {},
   "outputs": [
    {
     "name": "stdout",
     "output_type": "stream",
     "text": [
      "State\n",
      "California        NaN\n",
      "Ohio          35000.0\n",
      "Oregon        16000.0\n",
      "Texas         71000.0\n",
      "Name: Population, dtype: float64\n"
     ]
    }
   ],
   "source": [
    "# Label the series\n",
    "obj4.name = 'Population'\n",
    "obj4.index.name = 'State'\n",
    "print(obj4)"
   ]
  },
  {
   "cell_type": "code",
   "execution_count": null,
   "id": "f4487aa5",
   "metadata": {},
   "outputs": [],
   "source": [
    "# Create a Dataframe with a dictionary where values are equal sized list\n",
    "data = {'state': ['Ohio', 'Ohio', 'Ohio', 'Nevada', 'Nevada', 'Nevada'],\n",
    "        'year': [2000, 2001, 2002, 2001, 2002, 2003],\n",
    "        'pop': [1.5, 1.7, 3.6, 2.4, 2.9, 3.2]}\n",
    "frame1 = pd.DataFrame(data)\n",
    "print(frame1)"
   ]
  },
  {
   "cell_type": "code",
   "execution_count": null,
   "id": "129f253e",
   "metadata": {},
   "outputs": [],
   "source": [
    "frame2 = pd.DataFrame(data, columns=['year', 'state', 'pop'])  #set column ordering\n",
    "print(frame2)\n",
    "print(frame2['state'])    # present column as series\n",
    "print(frame2.year)        # present column as series"
   ]
  },
  {
   "cell_type": "code",
   "execution_count": 1,
   "id": "c39c86c2",
   "metadata": {},
   "outputs": [
    {
     "ename": "NameError",
     "evalue": "name 'pd' is not defined",
     "output_type": "error",
     "traceback": [
      "\u001b[0;31m---------------------------------------------------------------------------\u001b[0m",
      "\u001b[0;31mNameError\u001b[0m                                 Traceback (most recent call last)",
      "Cell \u001b[0;32mIn[1], line 2\u001b[0m\n\u001b[1;32m      1\u001b[0m \u001b[38;5;66;03m# Create a DataFrame with an extra undefined column\u001b[39;00m\n\u001b[0;32m----> 2\u001b[0m frame3 \u001b[38;5;241m=\u001b[39m pd\u001b[38;5;241m.\u001b[39mDataFrame(data, columns\u001b[38;5;241m=\u001b[39m[\u001b[38;5;124m'\u001b[39m\u001b[38;5;124myear\u001b[39m\u001b[38;5;124m'\u001b[39m, \u001b[38;5;124m'\u001b[39m\u001b[38;5;124mstate\u001b[39m\u001b[38;5;124m'\u001b[39m, \u001b[38;5;124m'\u001b[39m\u001b[38;5;124mpop\u001b[39m\u001b[38;5;124m'\u001b[39m, \u001b[38;5;124m'\u001b[39m\u001b[38;5;124mdebt\u001b[39m\u001b[38;5;124m'\u001b[39m],index\u001b[38;5;241m=\u001b[39m[\u001b[38;5;124m'\u001b[39m\u001b[38;5;124mone\u001b[39m\u001b[38;5;124m'\u001b[39m, \u001b[38;5;124m'\u001b[39m\u001b[38;5;124mtwo\u001b[39m\u001b[38;5;124m'\u001b[39m, \u001b[38;5;124m'\u001b[39m\u001b[38;5;124mthree\u001b[39m\u001b[38;5;124m'\u001b[39m, \u001b[38;5;124m'\u001b[39m\u001b[38;5;124mfour\u001b[39m\u001b[38;5;124m'\u001b[39m,\u001b[38;5;124m'\u001b[39m\u001b[38;5;124mfive\u001b[39m\u001b[38;5;124m'\u001b[39m, \u001b[38;5;124m'\u001b[39m\u001b[38;5;124msix\u001b[39m\u001b[38;5;124m'\u001b[39m])\n\u001b[1;32m      3\u001b[0m \u001b[38;5;28mprint\u001b[39m(frame3)\n\u001b[1;32m      4\u001b[0m \u001b[38;5;28mprint\u001b[39m(frame3\u001b[38;5;241m.\u001b[39mloc[\u001b[38;5;124m'\u001b[39m\u001b[38;5;124mthree\u001b[39m\u001b[38;5;124m'\u001b[39m])\n",
      "\u001b[0;31mNameError\u001b[0m: name 'pd' is not defined"
     ]
    }
   ],
   "source": [
    "# Create a DataFrame with an extra undefined column\n",
    "frame3 = pd.DataFrame(data, columns=['year', 'state', 'pop', 'debt'],index=['one', 'two', 'three', 'four','five', 'six'])\n",
    "print(frame3)\n",
    "print(frame3.loc['three'])\n",
    "frame3['debt'] = 0  # initialize entire column\n",
    "print(frame3)\n",
    "\n",
    "val = pd.Series([-1.2, -1.5, -1.7], index=['two', 'four', 'five'])  # initialize selected columns\n",
    "frame3['debt'] = val\n",
    "print(frame3)\n",
    "\n",
    "frame3['eastern'] = frame3.state == 'Ohio'   # creates new colunm\n",
    "print(frame3)\n",
    "\n",
    "del frame3['eastern']  # delete a column\n",
    "print(frame3)"
   ]
  },
  {
   "cell_type": "markdown",
   "id": "0020ed22",
   "metadata": {},
   "source": [
    "### DataFrame constructor\n",
    "\n",
    "o When passing nested dictionaries to the DataFrame, pandas will interpret the outer dict keys as the columns and the \n",
    "  inner keys as the row indices.\n",
    "  \n",
    "o Table 5-1. Possible data inputs to DataFrame constructor"
   ]
  },
  {
   "cell_type": "code",
   "execution_count": null,
   "id": "2e23b9f4",
   "metadata": {},
   "outputs": [],
   "source": [
    "pop = {'Nevada': {2001: 2.4, 2002: 2.9},'Ohio': {2000: 1.5, 2001: 1.7, 2002: 3.6}}\n",
    "frame4 = pd.DataFrame(pop)\n",
    "print(frame4) \n",
    "print(frame4.T)"
   ]
  },
  {
   "cell_type": "markdown",
   "id": "a8e73423",
   "metadata": {},
   "source": [
    "### Index Objects\n",
    "\n",
    "o Index objects used to hold the axis labels and other metadata (like the axis name or names)\n",
    "\n",
    "o Index objects are immutable\n",
    "\n",
    "o Table 5-2. Some Index methods and properties\n"
   ]
  },
  {
   "cell_type": "code",
   "execution_count": null,
   "id": "24f7ca36",
   "metadata": {},
   "outputs": [],
   "source": [
    "obj = pd.Series(range(3), index=['a', 'b', 'c'])\n",
    "index = obj.index\n",
    "print(index)\n",
    "#index[1] = 'd'\n"
   ]
  },
  {
   "cell_type": "markdown",
   "id": "3908b444",
   "metadata": {},
   "source": [
    "### Essential Functionality\n",
    "\n",
    "o Reindexing - create a new object with the data conformed to a new index\n",
    "\n",
    "o Table 5-3. reindex function arguments"
   ]
  },
  {
   "cell_type": "code",
   "execution_count": null,
   "id": "ad86a40d",
   "metadata": {},
   "outputs": [],
   "source": [
    "obj1 = pd.Series([4.5, 7.2, -5.3, 3.6], index=['d', 'b', 'a', 'c'])\n",
    "print(obj1)\n",
    "obj2 = obj.reindex(['a', 'b', 'c', 'd', 'e'])\n",
    "print(obj2)\n",
    "\n",
    "obj3 = pd.Series(['blue', 'purple', 'yellow'], index=[0, 2, 4])\n",
    "print(obj3)\n",
    "obj3 = obj3.reindex(range(6), method='ffill')\n",
    "print(obj3)"
   ]
  },
  {
   "cell_type": "markdown",
   "id": "448a2d32",
   "metadata": {},
   "source": [
    "o Dropping Entries from an Axis - drop method drops one or more more entries from an axis of a Series or Dataframe\n",
    "\n",
    "o The drop method returns a copy by default but it can be called with a parameter that makes the method mutable."
   ]
  },
  {
   "cell_type": "code",
   "execution_count": null,
   "id": "ce86effc",
   "metadata": {},
   "outputs": [],
   "source": [
    "obj = pd.Series(np.arange(5.), index=['a', 'b', 'c', 'd', 'e'])\n",
    "print(obj)\n",
    "new_obj = obj.drop('c')\n",
    "print(new_obj)\n",
    "obj.drop('c', inplace=True)\n",
    "print(obj)\n",
    "\n",
    "data = pd.DataFrame(np.arange(16).reshape((4, 4)), index=['Ohio', 'Colorado', 'Utah', 'New York'], columns=['one', 'two', 'three', 'four'])\n",
    "print(data)\n",
    "print(data.drop(['Colorado', 'Ohio']))   # returns copy of rows dropped from dataframe\n",
    "print(data.drop(['two', 'four'], axis='columns'))   # returns copy of columns dropped from dataframe\n"
   ]
  },
  {
   "cell_type": "markdown",
   "id": "13c962fb",
   "metadata": {},
   "source": [
    "o Indexing, Selection, and Filtering\n",
    "\n",
    "    - Series indexing is the same as with NumPy array indexing, except Series’s index values instead of only integers.\n",
    "    \n",
    "    - Slicing with labels behaves differently than normal Python slicing in that the endpoint is inclusive\n",
    "    \n",
    "    - Can apply indexing and slicing to Dataframe columms\n",
    "    \n",
    "    - DataFrame with label-indexed rows, can utlize special indexing operators loc and iloc to retieve a subset matrix\n",
    "    \n",
    "o Table 5-4. Indexing options with DataFrame"
   ]
  },
  {
   "cell_type": "code",
   "execution_count": null,
   "id": "3b76d5b9",
   "metadata": {},
   "outputs": [],
   "source": [
    "obj = pd.Series(np.arange(4.), index=['a', 'b', 'c', 'd'])\n",
    "print(obj)\n",
    "print(obj[1:3])\n",
    "print(obj['a':'c'])\n",
    "obj['b':'c'] = 5\n",
    "print(obj)\n",
    "\n",
    "data = pd.DataFrame(np.arange(16).reshape((4, 4)), index=['Ohio', 'Colorado', 'Utah', 'New York'], columns=['one', 'two', 'three', 'four'])\n",
    "print(data)\n",
    "print(data['two'])\n",
    "data['two'] = 10\n",
    "print(data)\n",
    "print(data.loc['Colorado', ['two', 'three']])\n",
    "print(data.iloc[[1, 2], [3, 0, 1]])\n"
   ]
  },
  {
   "cell_type": "markdown",
   "id": "c28d9072",
   "metadata": {},
   "source": [
    "### Other essential functionality\n",
    "\n",
    "o Integer Indexes - if numbers are used as labels, they are implicitly converted to strings\n",
    "\n",
    "o Arithmetic and Data Alignment - when adding together objects, if any index pairs are not the same, the respective index\n",
    "  in the result will be the union of the index pairs (Table 5-5. Flexible Series and Dataframe arithmetic methods\n",
    "\n",
    "o Function Application and Mapping - NumPy ufuncs (element-wise array methods) also work with pandas objects\n",
    "\n",
    "o Sorting and Ranking - sorting is done lexicographically by row or column index using the sort_index method which returns\n",
    "  a new, sorted object.  Ranking assigns ranks from one through the number of valid data points in an array.\n",
    "\n",
    "o Axis Indexes with Duplicate Labels - pandas can have duplicate labels on their axis but While many pandas functions many   pandas functions (like reindex) require that the labels be unique"
   ]
  },
  {
   "cell_type": "code",
   "execution_count": null,
   "id": "6a6e679d",
   "metadata": {},
   "outputs": [],
   "source": [
    "s1 = pd.Series([7.3, -2.5, 3.4, 1.5], index=['a', 'c', 'd', 'e'])\n",
    "s2 = pd.Series([-2.1, 3.6, -1.5, 4, 3.1], index=['a', 'c', 'e', 'f', 'g'])\n",
    "print(s1)\n",
    "print(s2)\n",
    "print(s1+s2)\n",
    "df1 = pd.DataFrame(np.arange(9.).reshape((3, 3)), columns=list('bcd'), index=['Ohio', 'Texas', 'Colorado'])\n",
    "df2 = pd.DataFrame(np.arange(12.).reshape((4, 3)), columns=list('bde'), index=['Utah', 'Ohio', 'Texas', 'Oregon'])\n",
    "print(df1)\n",
    "print(df2)\n",
    "print(df1+df2)\n",
    "\n",
    "frame = pd.DataFrame(np.random.randn(4, 3), columns=list('bde'), index=['Utah', 'Ohio', 'Texas', 'Oregon'])\n",
    "print(frame)\n",
    "print (np.abs(frame))\n",
    "\n",
    "obj = pd.Series(range(4), index=['d', 'a', 'b', 'c'])\n",
    "obj.sort_index()\n",
    "print(obj)\n",
    "frame = pd.DataFrame(np.arange(8).reshape((2, 4)), index=['three', 'one'], columns=['d', 'a', 'b', 'c'])\n",
    "print(frame)\n",
    "xframe = frame.sort_index(axis=1)\n",
    "print(xframe)\n",
    "print(frame)\n",
    "yframe = xframe.sort_index()\n",
    "print(yframe)\n",
    "\n",
    "obj = pd.Series([7, -5, 7, 4, 2, 0, 4])\n",
    "print(obj.rank())\n"
   ]
  },
  {
   "cell_type": "markdown",
   "id": "6e824df4",
   "metadata": {},
   "source": [
    "### Summarizing and Computing Descriptive Statistics\n",
    "\n",
    "o pandas objects are equipped with a set of common mathematical and statistical methods\n",
    "\n",
    "o Table 5-8. Descriptive and summary statistics"
   ]
  }
 ],
 "metadata": {
  "kernelspec": {
   "display_name": "Python 3 (ipykernel)",
   "language": "python",
   "name": "python3"
  },
  "language_info": {
   "codemirror_mode": {
    "name": "ipython",
    "version": 3
   },
   "file_extension": ".py",
   "mimetype": "text/x-python",
   "name": "python",
   "nbconvert_exporter": "python",
   "pygments_lexer": "ipython3",
   "version": "3.12.4"
  }
 },
 "nbformat": 4,
 "nbformat_minor": 5
}
